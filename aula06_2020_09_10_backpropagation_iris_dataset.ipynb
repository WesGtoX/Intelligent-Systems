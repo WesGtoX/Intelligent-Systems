{
  "nbformat": 4,
  "nbformat_minor": 0,
  "metadata": {
    "colab": {
      "name": "aula06_2020_09_10_backpropagation_iris_dataset.ipynb",
      "provenance": [],
      "collapsed_sections": [],
      "toc_visible": true
    },
    "kernelspec": {
      "name": "python3",
      "display_name": "Python 3"
    }
  },
  "cells": [
    {
      "cell_type": "code",
      "metadata": {
        "id": "oitx6NxqhwLs"
      },
      "source": [
        "import random\n",
        "import math"
      ],
      "execution_count": 721,
      "outputs": []
    },
    {
      "cell_type": "markdown",
      "metadata": {
        "id": "y_MZXUbMipFO"
      },
      "source": [
        "## BACKPROPAGATION IRIS DATASET"
      ]
    },
    {
      "cell_type": "code",
      "metadata": {
        "id": "84WsA0wQQsvz"
      },
      "source": [
        "random.seed(5000)"
      ],
      "execution_count": 722,
      "outputs": []
    },
    {
      "cell_type": "markdown",
      "metadata": {
        "id": "p0Ko8rj2Rqve"
      },
      "source": [
        "### Carregar dados da Iris"
      ]
    },
    {
      "cell_type": "code",
      "metadata": {
        "id": "xCPgqrKlQ3kJ"
      },
      "source": [
        "with open('Dataset/data_iris.txt') as csvfile:\n",
        "    csvreader = csv.reader(csvfile)\n",
        "    dataset = list(csvreader)"
      ],
      "execution_count": 723,
      "outputs": []
    },
    {
      "cell_type": "markdown",
      "metadata": {
        "id": "BncfI9G6R8dz"
      },
      "source": [
        "### Padronizar dados para valores numericos"
      ]
    },
    {
      "cell_type": "code",
      "metadata": {
        "id": "IDd81_f0RAM3"
      },
      "source": [
        "for row in dataset:\n",
        "    row[4] = [\"Iris-setosa\", \"Iris-versicolor\", \"Iris-virginica\"].index(row[4])\n",
        "    row[:4] = [float(row[j]) for j in range(len(row))]"
      ],
      "execution_count": 724,
      "outputs": []
    },
    {
      "cell_type": "markdown",
      "metadata": {
        "id": "wuMzy2JPSA1n"
      },
      "source": [
        "### Dividir os dados para trinamento"
      ]
    },
    {
      "cell_type": "code",
      "metadata": {
        "id": "1grREBBERDun"
      },
      "source": [
        "random.shuffle(dataset)\n",
        "datatrain = dataset[:int(len(dataset) * 0.8)]\n",
        "datatest = dataset[int(len(dataset) * 0.8):]\n",
        "train_X = [data[:4] for data in datatrain]\n",
        "train_y = [data[4] for data in datatrain]\n",
        "test_X = [data[:4] for data in datatest]\n",
        "test_y = [data[4] for data in datatest]"
      ],
      "execution_count": 725,
      "outputs": []
    },
    {
      "cell_type": "markdown",
      "metadata": {
        "id": "Pje9OSajSUX8"
      },
      "source": [
        "### Multiplicação das matrizes para teste"
      ]
    },
    {
      "cell_type": "code",
      "metadata": {
        "id": "yCVy7m2FRKWV"
      },
      "source": [
        "def matrix_mul_bias(A, B, bias):\n",
        "    C = [[0 for i in range(len(B[0]))] for i in range(len(A))]    \n",
        "    for i in range(len(A)):\n",
        "        for j in range(len(B[0])):\n",
        "            for k in range(len(B)):\n",
        "                C[i][j] += A[i][k] * B[k][j]\n",
        "            C[i][j] += bias[j]\n",
        "    return C"
      ],
      "execution_count": 726,
      "outputs": []
    },
    {
      "cell_type": "markdown",
      "metadata": {
        "id": "Ks8N9L2YSYt1"
      },
      "source": [
        "### Multiplicação do vetor A com matriz B"
      ]
    },
    {
      "cell_type": "code",
      "metadata": {
        "id": "-pp3-LB-RXJD"
      },
      "source": [
        "def vec_mat_bias(A, B, bias):\n",
        "    C = [0 for i in range(len(B[0]))]\n",
        "    for j in range(len(B[0])):\n",
        "        for k in range(len(B)):\n",
        "            C[j] += A[k] * B[k][j]\n",
        "            C[j] += bias[j]\n",
        "    return C"
      ],
      "execution_count": 727,
      "outputs": []
    },
    {
      "cell_type": "markdown",
      "metadata": {
        "id": "LKjcJmeRSoLl"
      },
      "source": [
        "### Multiplicação das para Backpropagation"
      ]
    },
    {
      "cell_type": "code",
      "metadata": {
        "id": "UfnxxPZ0Rbib"
      },
      "source": [
        "def mat_vec(A, B):\n",
        "    C = [0 for i in range(len(A))]\n",
        "    for i in range(len(A)):\n",
        "        for j in range(len(B)):\n",
        "            C[i] += A[i][j] * B[j]\n",
        "    return C"
      ],
      "execution_count": 728,
      "outputs": []
    },
    {
      "cell_type": "markdown",
      "metadata": {
        "id": "1x_F6jiZSwjn"
      },
      "source": [
        "### Função de Sigmoid"
      ]
    },
    {
      "cell_type": "code",
      "metadata": {
        "id": "2VPwzV5nRcmN"
      },
      "source": [
        "def sigmoid(A, deriv=False):\n",
        "    if deriv:\n",
        "        for i in range(len(A)):\n",
        "            A[i] = A[i] * (1 - A[i])\n",
        "    else:\n",
        "        for i in range(len(A)):\n",
        "            A[i] = 1 / (1 + math.exp(-A[i]))\n",
        "    return A"
      ],
      "execution_count": 729,
      "outputs": []
    },
    {
      "cell_type": "markdown",
      "metadata": {
        "id": "98oGsGQPS7mT"
      },
      "source": [
        "### Parametros para treinamento"
      ]
    },
    {
      "cell_type": "code",
      "metadata": {
        "id": "IsU6EdJnRd4e"
      },
      "source": [
        "alfa = 0.005\n",
        "epoch = 1000\n",
        "neuron = [4, 5, 3]"
      ],
      "execution_count": 730,
      "outputs": []
    },
    {
      "cell_type": "markdown",
      "metadata": {
        "id": "NC0cC2ARTLhS"
      },
      "source": [
        "### Iniciar pesos e bias"
      ]
    },
    {
      "cell_type": "code",
      "metadata": {
        "id": "9OsTZcxgRe4p"
      },
      "source": [
        "weight = [[0 for j in range(neuron[1])] for i in range(neuron[0])]\n",
        "weight_2 = [[0 for j in range(neuron[2])] for i in range(neuron[1])]\n",
        "bias = [0 for i in range(neuron[1])]\n",
        "bias_2 = [0 for i in range(neuron[2])]"
      ],
      "execution_count": 731,
      "outputs": []
    },
    {
      "cell_type": "markdown",
      "metadata": {
        "id": "jwcbIFyWTUQl"
      },
      "source": [
        "### Iniciar pesos com valores randômicos [-1.0 | 1.0]"
      ]
    },
    {
      "cell_type": "code",
      "metadata": {
        "id": "KP3-pZz3Rgqy"
      },
      "source": [
        "for i in range(neuron[0]):\n",
        "    for j in range(neuron[1]):\n",
        "        weight[i][j] = 2 * random.random() - 1\n",
        "\n",
        "for i in range(neuron[1]):\n",
        "    for j in range(neuron[2]):\n",
        "        weight_2[i][j] = 2 * random.random() - 1"
      ],
      "execution_count": 732,
      "outputs": []
    },
    {
      "cell_type": "code",
      "metadata": {
        "id": "9PS5ntIARlN8"
      },
      "source": [
        "show_total_cost = ''\n",
        "for e in range(epoch):\n",
        "    cost_total = 0\n",
        "\n",
        "    for idx, x in enumerate(train_X):\n",
        "        # forward propagation\n",
        "        h_1 = vec_mat_bias(x, weight, bias)\n",
        "        X_1 = sigmoid(h_1)\n",
        "        h_2 = vec_mat_bias(X_1, weight_2, bias_2)\n",
        "        X_2 = sigmoid(h_2)\n",
        "        \n",
        "        # converter para único\n",
        "        target = [0, 0, 0]\n",
        "        target[int(train_y[idx])] = 1\n",
        "\n",
        "        # função de custo, erro de raiz quadrada\n",
        "        eror = 0\n",
        "        for i in range(neuron[2]):\n",
        "            eror +=  (target[i] - X_2[i]) ** 2 \n",
        "        cost_total += eror * 1 / neuron[2]\n",
        "\n",
        "        # backpropagation\n",
        "        # atualização dos pesos e bias camada 2\n",
        "        delta_2 = []\n",
        "        for j in range(neuron[2]):\n",
        "            delta_2.append(-1 * 2. / neuron[2] * (target[j]-X_2[j]) * X_2[j] * (1-X_2[j]))\n",
        "\n",
        "        for i in range(neuron[1]):\n",
        "            for j in range(neuron[2]):\n",
        "                weight_2[i][j] -= alfa * (delta_2[j] * X_1[i])\n",
        "                bias_2[j] -= alfa * delta_2[j]\n",
        "        \n",
        "        # atualização dos pesos e bias camada 1\n",
        "        delta_1 = mat_vec(weight_2, delta_2)\n",
        "        for j in range(neuron[1]):\n",
        "            delta_1[j] = delta_1[j] * (X_1[j] * (1-X_1[j]))\n",
        "        \n",
        "        for i in range(neuron[0]):\n",
        "            for j in range(neuron[1]):\n",
        "                weight[i][j] -=  alfa * (delta_1[j] * x[i])\n",
        "                bias[j] -= alfa * delta_1[j]\n",
        "    \n",
        "    cost_total /= len(train_X)\n",
        "    if(e % 100 == 0):\n",
        "        show_total_cost += f'Custo total: {cost_total}\\n'\n",
        "        # print(f'Custo total: {cost_total}')"
      ],
      "execution_count": 733,
      "outputs": []
    },
    {
      "cell_type": "markdown",
      "metadata": {
        "id": "8A3JzBD2UJxU"
      },
      "source": [
        "### Testes"
      ]
    },
    {
      "cell_type": "code",
      "metadata": {
        "id": "_NuQfTISUObE"
      },
      "source": [
        "res = matrix_mul_bias(test_X, weight, bias)\n",
        "res_2 = matrix_mul_bias(res, weight_2, bias)"
      ],
      "execution_count": 734,
      "outputs": []
    },
    {
      "cell_type": "markdown",
      "metadata": {
        "id": "6s9K8lTzURAP"
      },
      "source": [
        "### Obter previsão"
      ]
    },
    {
      "cell_type": "code",
      "metadata": {
        "id": "fTeDbrd_UZZY"
      },
      "source": [
        "preds = []\n",
        "for r in res_2:\n",
        "    preds.append(max(enumerate(r), key=lambda x:x[1])[0])"
      ],
      "execution_count": 735,
      "outputs": []
    },
    {
      "cell_type": "markdown",
      "metadata": {
        "id": "f88RsKLOUf52"
      },
      "source": [
        "#### Cálculo de precisão"
      ]
    },
    {
      "cell_type": "code",
      "metadata": {
        "id": "Gdz0Ld00RnEq",
        "outputId": "14d00f0c-f9ec-4775-a854-4ad58e6f4e28",
        "colab": {
          "base_uri": "https://localhost:8080/",
          "height": 261
        }
      },
      "source": [
        "acc = 0.0\n",
        "\n",
        "for i in range(len(preds)):\n",
        "    if preds[i] == int(test_y[i]):\n",
        "        acc += 1\n",
        "\n",
        "accuracy = acc / len(preds) * 100\n",
        "\n",
        "print(show_total_cost)\n",
        "\n",
        "print(f'Previsão: {preds}')\n",
        "print(f'Precisão: {accuracy:.2f}%')"
      ],
      "execution_count": 736,
      "outputs": [
        {
          "output_type": "stream",
          "text": [
            "Custo total: 0.34550111123583205\n",
            "Custo total: 0.13149238823242787\n",
            "Custo total: 0.10949941015860527\n",
            "Custo total: 0.09704320839532987\n",
            "Custo total: 0.08506138069831262\n",
            "Custo total: 0.07289757613509798\n",
            "Custo total: 0.06139907048319877\n",
            "Custo total: 0.05157342318796261\n",
            "Custo total: 0.04379695079398785\n",
            "Custo total: 0.03786338701243066\n",
            "\n",
            "Previsão: [2, 0, 2, 2, 1, 1, 1, 1, 2, 1, 1, 1, 0, 2, 1, 2, 0, 1, 1, 2, 1, 1, 0, 2, 2, 0, 1, 2, 1, 1]\n",
            "Precisão: 83.33%\n"
          ],
          "name": "stdout"
        }
      ]
    }
  ]
}